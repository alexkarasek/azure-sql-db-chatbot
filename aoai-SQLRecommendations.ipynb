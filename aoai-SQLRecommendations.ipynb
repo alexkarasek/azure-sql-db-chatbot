{
    "metadata": {
        "kernelspec": {
            "name": "SQL",
            "display_name": "SQL",
            "language": "sql"
        },
        "language_info": {
            "name": "sql",
            "version": ""
        }
    },
    "nbformat_minor": 2,
    "nbformat": 4,
    "cells": [
        {
            "cell_type": "markdown",
            "source": [
                "Create and populate subset of source table"
            ],
            "metadata": {
                "language": "sql",
                "azdata_cell_guid": "fa76385e-cdd1-4cac-a6e2-2b16ae881620"
            },
            "attachments": {}
        },
        {
            "cell_type": "code",
            "source": [
                "-- Step 1: Create a new table for the subset\n",
                "CREATE TABLE walmart_ecommerce_subset (\n",
                "    id INT IDENTITY(1,1) PRIMARY KEY,\n",
                "    concatenated_text NVARCHAR(MAX),\n",
                "    embedding VECTOR(1536) -- Adjusted for Ada embeddings\n",
                ");\n",
                "\n",
                "-- Step 2: Populate the new table with top N distinct concatenated values\n",
                "INSERT INTO walmart_ecommerce_subset (concatenated_text)\n",
                "SELECT DISTINCT TOP (100) \n",
                "    CONCAT(product_name, ' ', description) AS concatenated_text\n",
                "FROM walmart_ecommerce_product_details\n",
                "WHERE product_name IS NOT NULL AND description IS NOT NULL;\n",
                ""
            ],
            "metadata": {
                "azdata_cell_guid": "40b98dbf-226c-4d52-a83d-24fd7d045794",
                "language": "sql"
            },
            "outputs": [
                {
                    "output_type": "display_data",
                    "data": {
                        "text/html": "(100 rows affected)"
                    },
                    "metadata": {}
                },
                {
                    "output_type": "display_data",
                    "data": {
                        "text/html": "Total execution time: 00:00:00.330"
                    },
                    "metadata": {}
                }
            ],
            "execution_count": 1
        },
        {
            "cell_type": "markdown",
            "source": [
                "Create embeddings proc"
            ],
            "metadata": {
                "language": "sql",
                "azdata_cell_guid": "b2ec3681-0aa4-4d94-8788-663a84a3f532"
            },
            "attachments": {}
        },
        {
            "cell_type": "code",
            "source": [
                "CREATE OR ALTER PROCEDURE [dbo].[GetEmbeddings]\n",
                "    @InputText NVARCHAR(MAX),\n",
                "    @OutputText NVARCHAR(MAX) OUTPUT\n",
                "AS\n",
                "BEGIN\n",
                "    SET NOCOUNT ON;\n",
                "\n",
                "    DECLARE @Payload NVARCHAR(MAX);\n",
                "    SET @Payload = JSON_OBJECT('input': @InputText);\n",
                "\n",
                "    BEGIN TRY\n",
                "        EXEC sp_invoke_external_rest_endpoint\n",
                "            @url = 'https://openaiappliedai.openai.azure.com/openai/deployments/text-embedding-ada-002/embeddings?api-version=2023-05-15',\n",
                "            @method = 'POST',\n",
                "            @credential = 'https://openaiappliedai.openai.azure.com/',\n",
                "            @payload = @Payload,\n",
                "            @response = @OutputText OUTPUT;\n",
                "    END TRY\n",
                "    BEGIN CATCH\n",
                "        THROW;\n",
                "    END CATCH\n",
                "END;\n",
                ""
            ],
            "metadata": {
                "language": "sql",
                "azdata_cell_guid": "49097264-b2e4-41a9-8c69-7809c9fbe361"
            },
            "outputs": [
                {
                    "output_type": "display_data",
                    "data": {
                        "text/html": "Commands completed successfully."
                    },
                    "metadata": {}
                },
                {
                    "output_type": "display_data",
                    "data": {
                        "text/html": "Total execution time: 00:00:00.035"
                    },
                    "metadata": {}
                }
            ],
            "execution_count": 4
        },
        {
            "cell_type": "markdown",
            "source": [
                "Batch process embeddings"
            ],
            "metadata": {
                "language": "sql",
                "azdata_cell_guid": "b367fb60-f3f5-499c-8a59-f66e9e7f1c60"
            },
            "attachments": {}
        },
        {
            "cell_type": "markdown",
            "source": [
                ""
            ],
            "metadata": {
                "language": "sql",
                "azdata_cell_guid": "f94fe362-a8bc-4588-bcbc-13049150ccbd"
            }
        },
        {
            "cell_type": "code",
            "source": [
                "DECLARE @ID INT;\n",
                "DECLARE @InputText NVARCHAR(MAX);\n",
                "DECLARE @OutputText NVARCHAR(MAX);\n",
                "\n",
                "-- Temp table for processing queue\n",
                "IF OBJECT_ID('tempdb..#ProcessingQueue') IS NOT NULL DROP TABLE #ProcessingQueue;\n",
                "CREATE TABLE #ProcessingQueue (\n",
                "    ID INT PRIMARY KEY,\n",
                "    InputText NVARCHAR(MAX)\n",
                ");\n",
                "\n",
                "-- Populate the queue with rows that need embeddings\n",
                "INSERT INTO #ProcessingQueue (ID, InputText)\n",
                "SELECT ID, concatenated_text\n",
                "FROM walmart_ecommerce_subset\n",
                "WHERE embedding IS NULL;\n",
                "\n",
                "-- Process rows\n",
                "WHILE EXISTS (SELECT 1 FROM #ProcessingQueue)\n",
                "BEGIN\n",
                "    -- Fetch the next row from the queue\n",
                "    SELECT TOP 1 @ID = ID, @InputText = InputText\n",
                "    FROM #ProcessingQueue;\n",
                "\n",
                "    -- Call the embedding procedure\n",
                "    --PRINT @InputText;\n",
                "    EXEC dbo.GetEmbeddings @InputText, @OutputText OUTPUT;\n",
                "    --PRINT @InputText + ': ' + CAST(CAST(JSON_QUERY(@OutputText, '$.result.data[0].embedding') AS VECTOR(1536)) as NVARCHAR(MAX));\n",
                "\n",
                "    -- Update the embedding column in the subset table\n",
                "    UPDATE walmart_ecommerce_subset\n",
                "    SET embedding = CAST(JSON_QUERY(@OutputText, '$.result.data[0].embedding') AS VECTOR(1536))\n",
                "    WHERE ID = @ID;\n",
                "\n",
                "    -- Remove the processed row from the queue\n",
                "    DELETE FROM #ProcessingQueue WHERE ID = @ID;\n",
                "\n",
                "    -- Optional: Add a small delay for rate limiting\n",
                "    WAITFOR DELAY '00:00:01'; -- Adjust as needed\n",
                "END;\n",
                ""
            ],
            "metadata": {
                "language": "sql",
                "azdata_cell_guid": "bfe647e9-8893-40f5-8491-26f1fcfc6eb4",
                "tags": []
            },
            "outputs": [],
            "execution_count": null
        },
        {
            "cell_type": "markdown",
            "source": [
                "Generate Embeddings for Search Text"
            ],
            "metadata": {
                "language": "sql",
                "azdata_cell_guid": "06cf2782-d079-4b00-b359-85a33205f70d"
            },
            "attachments": {}
        },
        {
            "cell_type": "code",
            "source": [
                "-- Search Text\n",
                "DECLARE @text NVARCHAR(MAX) = 'Ebe Men Black Rectangle Half Rim Spring Hinge Eyewear Reading Glasses 2036: ...';\n",
                "DECLARE @retval INT, @response NVARCHAR(MAX);\n",
                "DECLARE @payload NVARCHAR(MAX);\n",
                "SET @payload = JSON_OBJECT('input': @text);\n",
                "\n",
                "-- Call OpenAI API to Get the Embedding\n",
                "BEGIN TRY\n",
                "    EXEC @retval = sp_invoke_external_rest_endpoint\n",
                "        @url = 'https://openaiappliedai.openai.azure.com/openai/deployments/text-embedding-ada-002/embeddings?api-version=2023-05-15',\n",
                "        @method = 'POST',\n",
                "        @credential = 'https://openaiappliedai.openai.azure.com/',\n",
                "        @payload = @payload,\n",
                "        @response = @response OUTPUT;\n",
                "END TRY\n",
                "BEGIN CATCH\n",
                "    SELECT \n",
                "        'SQL' AS error_source, \n",
                "        ERROR_NUMBER() AS error_code,\n",
                "        ERROR_MESSAGE() AS error_message;\n",
                "    RETURN;\n",
                "END CATCH\n",
                "\n",
                "-- Handle Errors\n",
                "IF (@retval != 0) BEGIN\n",
                "    SELECT \n",
                "        'OPENAI' AS error_source, \n",
                "        JSON_VALUE(@response, '$.result.error.code') AS error_code,\n",
                "        JSON_VALUE(@response, '$.result.error.message') AS error_message,\n",
                "        @response AS error_response;\n",
                "    RETURN;\n",
                "END;\n",
                "\n",
                "-- Store Response in Table (Optional)\n",
                "DROP TABLE IF EXISTS dbo.http_response;\n",
                "CREATE TABLE dbo.http_response (response NVARCHAR(MAX));\n",
                "INSERT INTO dbo.http_response (response) VALUES (@response);\n",
                "\n",
                "-- Extract Embedding from Response\n",
                "DECLARE @SearchEmbedding VECTOR(1536);\n",
                "SET @SearchEmbedding = CAST(JSON_QUERY(@response, '$.result.data[0].embedding') AS VECTOR(1536));\n",
                ""
            ],
            "metadata": {
                "language": "sql",
                "azdata_cell_guid": "e166826c-7a31-47b2-9f91-d6fa648ff0eb"
            },
            "outputs": [
                {
                    "output_type": "display_data",
                    "data": {
                        "text/html": "(1 row affected)"
                    },
                    "metadata": {}
                },
                {
                    "output_type": "display_data",
                    "data": {
                        "text/html": "Total execution time: 00:00:00.166"
                    },
                    "metadata": {}
                }
            ],
            "execution_count": 11
        },
        {
            "cell_type": "markdown",
            "source": [
                "Perform Similiarity Search"
            ],
            "metadata": {
                "language": "sql",
                "azdata_cell_guid": "4cd1321d-f99c-4add-af3c-f5218ab6a489"
            },
            "attachments": {}
        },
        {
            "cell_type": "code",
            "source": [
                "-- Set parameters\n",
                "DECLARE @top INT = 50; -- Limit the number of results\n",
                "DECLARE @min_similarity DECIMAL(19, 16) = 0.75; -- Minimum similarity threshold\n",
                "\n",
                "-- Fetch query vector from the latest embedding response\n",
                "DECLARE @qv VECTOR(1536) = (\n",
                "    SELECT TOP(1)\n",
                "        CAST(JSON_QUERY(response, '$.result.data[0].embedding') AS VECTOR(1536)) AS query_vector\n",
                "    FROM dbo.http_response\n",
                ");\n",
                "\n",
                "-- Perform similarity search on the subset table\n",
                "SELECT TOP (@top)\n",
                "    s.id,\n",
                "    s.concatenated_text,\n",
                "    vector_distance('cosine', @qv, s.embedding) AS distance\n",
                "FROM dbo.walmart_ecommerce_subset s\n",
                "WHERE vector_distance('cosine', @qv, s.embedding) <= 1 - @min_similarity\n",
                "ORDER BY distance ASC;\n",
                ""
            ],
            "metadata": {
                "language": "sql",
                "azdata_cell_guid": "3f27fd02-fd49-4424-9f23-2c75ee9a03a0"
            },
            "outputs": [
                {
                    "output_type": "display_data",
                    "data": {
                        "text/html": "(12 rows affected)"
                    },
                    "metadata": {}
                },
                {
                    "output_type": "display_data",
                    "data": {
                        "text/html": "Total execution time: 00:00:00.046"
                    },
                    "metadata": {}
                },
                {
                    "output_type": "execute_result",
                    "metadata": {},
                    "execution_count": 13,
                    "data": {
                        "application/vnd.dataresource+json": {
                            "schema": {
                                "fields": [
                                    {
                                        "name": "id"
                                    },
                                    {
                                        "name": "concatenated_text"
                                    },
                                    {
                                        "name": "distance"
                                    }
                                ]
                            },
                            "data": [
                                {
                                    "id": "1",
                                    "concatenated_text": "Ebe Men Black Rectangle Half Rim Spring Hinge Eyewear Reading Glasses 2036 Count on EBE for all of your eye correction needs this light weight sleek looking pair of glasses are something to be won. We guarantee you will love the style of these frames with the sharply colored temples on the side of your face give a great fashion look and a great comfort your face we guarantee your satisfaction.| Always custom made to your individual order specifications in our FDA Listed Lab with the remarkable Optical grade Custom frames and Lenses available. Better style better grade and always less than retail. Rx lens included! Glasses come with a Hard protective case and micro fiber cleaning cloth. Very light and strong frame with Ebe signature comfort fit bridge for easy all day use without hot spots. We design and produce all of our frames and lenses in our FDA listed Labs. Lenses Include Anti-Glare and Anti-Reflective Coating. You will Love your New Glasses and we Guarantee it 100%. We do not sell Cheap &quot;drug store&quot; reading glasses. Lens Width=55, Lens Height=29, Bridge Width=18, Temple Length=140, Frame Width=138 ",
                                    "distance": "0.07657944997478905"
                                },
                                {
                                    "id": "4",
                                    "concatenated_text": "Ebe Men Silver Rectangle Half Rim Spring Hinge Reading Glasses a963 Count on EBE for all of your eye correction needs this light weight sleek looking pair of glasses are something to be won. We guarantee you will love the style of these frames with the sharply colored temples on the side of your face give a great fashion look and a great comfort your face we guarantee your satisfaction.| Always custom made to your individual order specifications in our FDA Listed Lab with the remarkable Optical grade Custom frames and Lenses available. Better style better grade and always less than retail. Rx lens included! Glasses come with a Hard protective case and micro fiber cleaning cloth. Very light and strong frame with Ebe signature comfort fit bridge for easy all day use without hot spots. We design and produce all of our frames and lenses in our FDA listed Labs. Lenses Include Anti-Glare and Anti-Reflective Coating. You will Love your New Glasses and we Guarantee it 100%. We do not sell Cheap &quot;drug store&quot; reading glasses. Lens Width=52, Lens Height=27, Bridge Width=16, Temple Length=138, Frame Width=130 ",
                                    "distance": "0.09326433205059259"
                                },
                                {
                                    "id": "37",
                                    "concatenated_text": "Ebe Men Gold Shield Half Rim Spring Hinge Reading Glasses a970 Count on EBE for all of your eye correction needs this light weight sleek looking pair of glasses are something to be won. We guarantee you will love the style of these frames with the sharply colored temples on the side of your face give a great fashion look and a great comfort your face we guarantee your satisfaction.| Always custom made to your individual order specifications in our FDA Listed Lab with the remarkable Optical grade Custom frames and Lenses available. Better style better grade and always less than retail. Rx lens included! Glasses come with a Hard protective case and micro fiber cleaning cloth. Very light and strong frame with Ebe signature comfort fit bridge for easy all day use without hot spots. We design and produce all of our frames and lenses in our FDA listed Labs. Lenses Include Anti-Glare and Anti-Reflective Coating. You will Love your New Glasses and we Guarantee it 100%. We do not sell Cheap &quot;drug store&quot; reading glasses. Lens Width=50, Lens Height=27, Bridge Width=18, Temple Length=138, Frame Width=129 ",
                                    "distance": "0.10784077920543012"
                                },
                                {
                                    "id": "97",
                                    "concatenated_text": "Ebe Prescription Glasses Mens Womens Burgundy Black Rectangular Half Rim Anti Glare grade s3130 Burgundy half-rim reading glasses. These unique frames feature a stylish half-frame design with soft rubber nose pieces, standard hinges for durability, and narrow black temple arms with built-in ear pieces. These classic looking frames are perfect for any situation, great for all day wear and comfort.| Always custom made to your individual order specifications in our FDA Listed Lab with the remarkable Optical grade Custom frames and Lenses available. Better style better grade and always less than retail. Rx lens included! Glasses come with a Hard protective case and micro fiber cleaning cloth. Very light and strong frame with Ebe signature comfort fit bridge for easy all day use without hot spots. We design and produce all of our frames and lenses in our FDA listed Labs. Lenses Include Anti-Glare and Anti-Reflective Coating. You will Love your New Glasses and we Guarantee it 100%. We do not sell Cheap &quot;drug store&quot; reading glasses. Lens Width=51, Lens Height=25, Bridge Width=18, Temple Length=138, Frame Width=136 ",
                                    "distance": "0.11572889915017326"
                                },
                                {
                                    "id": "72",
                                    "concatenated_text": "Ebe Reading Glasses Mens Womens Tortoise Bold Rectangular Full Frame Anti Glare grade ckbdp9088 Rectangular tortoise-shell colored readers with full frames. These spectacles feature a one-piece frame with built-in matching color bridge and nose pieces for added durability, leading into interesting gold colored stainless steel temple detail with standard hinge for durability, thin gold colored temple arms, and chocolatey brown soft rubber ear pieces with shiny silver tips for added detail and style. Perfect for anyone looking for a solid bold pair of reading glasses for all day use and wearaibility without &quot;hot spots&quot; or pinching.| Always custom made to your individual order specifications in our FDA Listed Lab with the remarkable Optical grade Custom frames and Lenses available. Better style better grade and always less than retail. Rx lens included! Glasses come with a Hard protective case and micro fiber cleaning cloth. Very light and strong frame with Ebe signature comfort fit bridge for easy all day use without hot spots. We design and produce all of our frames and lenses in our FDA listed Labs. Lenses Include Anti-Glare and Anti-Reflective Coating. You will Love your New Glasses and we Guarantee it 100%. We do not sell Cheap &quot;drug store&quot; reading glasses. Lens Width=52, Lens Height=32, Bridge Width=15, Temple Length=145, Frame Width=130 ",
                                    "distance": "0.1291778111185823"
                                },
                                {
                                    "id": "57",
                                    "concatenated_text": "Ebe Reading Glasses Mens Womens Black Blue Retro Acetate Anti-Glare Lenses Light Weight c1219 We are continuing our line of modest specs for the needs of your eyes for every season. We offer these stylish retro specs for your clarity of optical view as well as all-day comfort you demand. The ear pieces are slightly curved for a cozy fit to your face, as we hope you will love sturdy and dependable frames. Let us know how we can take care of your eyes, we know you will love your frames, we guarantee it 100%!| Always custom made to your individual order specifications in our FDA Listed Lab with the remarkable Optical grade Custom frames and Lenses available. Better style better grade and always less than retail. Rx lens included! Glasses come with a Hard protective case and micro fiber cleaning cloth. Very light and strong frame with Ebe signature comfort fit bridge for easy all day use without hot spots. We design and produce all of our frames and lenses in our FDA listed Labs. Lenses Include Anti-Glare and Anti-Reflective Coating. You will Love your New Glasses and we Guarantee it 100%. We do not sell Cheap &quot;drug store&quot; reading glasses. Lens Width=52, Lens Height=40, Bridge Width=21, Temple Length=140, Frame Width=138 ",
                                    "distance": "0.13378322007446553"
                                },
                                {
                                    "id": "32",
                                    "concatenated_text": "Ebe Glasses Men Women Rx Reading Rectangular Full Frame Professional TR-90 ckbj0178w Ebe sleek line of business specs come these sharp deep brown eyewear for all day use. The light weight feel is ideal for the active life style the full frame around your eyes give the perfect level of eye vision needs. We are proud to show these in our signature comfort flex material flavorful and true the grade of Ebe wear we assure your satisfaction.| Always custom made to your individual order specifications in our FDA Listed Lab with the remarkable Optical grade Custom frames and Lenses available. Better style better grade and always less than retail. Rx lens included! Glasses come with a Hard protective case and micro fiber cleaning cloth. Very light and strong frame with Ebe signature comfort fit bridge for easy all day use without hot spots. We design and produce all of our frames and lenses in our FDA listed Labs. Lenses Include Anti-Glare and Anti-Reflective Coating. You will Love your New Glasses and we Guarantee it 100%. We do not sell Cheap &quot;drug store&quot; reading glasses. Lens Width=55, Lens Height=30, Bridge Width=16, Temple Length=140, Frame Width=138 ",
                                    "distance": "0.1357144405350893"
                                },
                                {
                                    "id": "14",
                                    "concatenated_text": "Eye Buy Express Prescription Glasses Mens Womens Burgundy Crystal Clear Yellow Rounded Rectangular Reading Glasses Anti Glare grade Rounded rectangular cat-eye reading glasses. These frames feature a deep burgundy color on the face of the frame with crystal interior, as well as crystal temple detail and yellow, turqoise and black marbled colors on the inside of the temple arms. The standard hinges provide durability and the TR-90 con struction allows for some flex making these glasses very sturdy and perfect for every day use!| Always custom made to your individual order specifications in our FDA Listed Lab with the remarkable Optical grade Custom frames and Lenses available. Better style better grade and always less than retail. Rx lens included! Glasses come with a Hard protective case and micro fiber cleaning cloth. Very light and strong frame with Ebe signature comfort fit bridge for easy all day use without hot spots. We design and produce all of our frames and lenses in our FDA listed Labs. Lenses Include Anti-Glare and Anti-Reflective Coating. You will Love your New Glasses and we Guarantee it 100%. We do not sell Cheap &quot;drug store&quot; reading glasses. Lens Width=54, Lens Height=37, Bridge Width=15, Temple Length=144, Frame Width=135 ",
                                    "distance": "0.14724506089667933"
                                },
                                {
                                    "id": "61",
                                    "concatenated_text": "Ebe Reading Glasses Mens Womens Gold Harry Potter Style Horned Rim Anti Glare Cozy zsm5500 We hope you love these spectacular frames, being the most light weight specs you will ever try on in your life. The temples are thin and streamline, for utmost simplicity yet perfect comfort for an all day fit. The lenses are FDA approved, giving the remarkable in vision acuity you will ever imagine. The nose pads are extremely comfortable, giving your nose a cozy wear but not suffocating. We hope you let Ebe be the and most affordable eye wear you will ever know.| Always custom made to your individual order specifications in our FDA Listed Lab with the remarkable Optical grade Custom frames and Lenses available. Better style better grade and always less than retail. Rx lens included! Glasses come with a Hard protective case and micro fiber cleaning cloth. Very light and strong frame with Ebe signature comfort fit bridge for easy all day use without hot spots. We design and produce all of our frames and lenses in our FDA listed Labs. Lenses Include Anti-Glare and Anti-Reflective Coating. You will Love your New Glasses and we Guarantee it 100%. We do not sell Cheap &quot;drug store&quot; reading glasses. Lens Width=51, Lens Height=40, Bridge Width=19, Temple Length=143, Frame Width=135 ",
                                    "distance": "0.14925055011404043"
                                },
                                {
                                    "id": "12",
                                    "concatenated_text": "Collapsible Rectangular Plastic Folding Clear Lens Reading Glasses Brown 2.5 Unisex folding narrow rectangular clear lens powered reading glasses. (re3754clc)| 5 3/8&quot;(137mm) x 1 3/8&quot;(36mm) Comes with zippered case Light Weight Polycarbonate Lenses ",
                                    "distance": "0.15686747841738868"
                                },
                                {
                                    "id": "90",
                                    "concatenated_text": "Eye Buy Express Kids Childrens Reading Glasses Violet Rectangular Full Frame Style Anti Glare grade d5343 Rectangular full frame purple stainless steel reading glasses for children. These frames feature a 180 degree hinge that swings smoothly for extra durability and flexibility. These frames have adjustible soft rubber nose pieces and soft rubber ear pieces, and the temples feature an interesting multi-color bead design in cool colors. Great for kids that need a flexible and durable pair of reading glasses.| Always custom made to your individual order specifications in our FDA Listed Lab with the remarkable Optical grade Custom frames and Lenses available. Better style better grade and always less than retail. Rx lens included! Glasses come with a Hard protective case and micro fiber cleaning cloth. Very light and strong frame with Ebe signature comfort fit bridge for easy all day use without hot spots. We design and produce all of our frames and lenses in our FDA listed Labs. Lenses Include Anti-Glare and Anti-Reflective Coating. You will Love your New Glasses and we Guarantee it 100%. We do not sell Cheap &quot;drug store&quot; reading glasses. Lens Width=45, Lens Height=28, Bridge Width=16, Temple Length=128, Frame Width=115 ",
                                    "distance": "0.15816860070985017"
                                },
                                {
                                    "id": "70",
                                    "concatenated_text": "Eye Buy Express Kids Childrens Reading Glasses Pink Oval Round Rectangular Anti Glare grade sk9019 Pastel pink oval reading glasses for children. These glasses have a glossy pastel pink finish throughout with matching built-in nose pieces, and glossy silver spring hinges for extra flexibility leading into matching built-in ear pieces. These frames have a unique rouded shape and color that's perfect for any kid looking for something cool and comfortable.| Always custom made to your individual order specifications in our FDA Listed Lab with the remarkable Optical grade Custom frames and Lenses available. Better style better grade and always less than retail. Rx lens included! Glasses come with a Hard protective case and micro fiber cleaning cloth. Very light and strong frame with Ebe signature comfort fit bridge for easy all day use without hot spots. We design and produce all of our frames and lenses in our FDA listed Labs. Lenses Include Anti-Glare and Anti-Reflective Coating. You will Love your New Glasses and we Guarantee it 100%. We do not sell Cheap &quot;drug store&quot; reading glasses. Lens Width=45, Lens Height=32, Bridge Width=16, Temple Length=121, Frame Width=112 ",
                                    "distance": "0.17772082545536905"
                                }
                            ]
                        },
                        "text/html": [
                            "<table>",
                            "<tr><th>id</th><th>concatenated_text</th><th>distance</th></tr>",
                            "<tr><td>1</td><td>Ebe Men Black Rectangle Half Rim Spring Hinge Eyewear Reading Glasses 2036 Count on EBE for all of your eye correction needs this light weight sleek looking pair of glasses are something to be won. We guarantee you will love the style of these frames with the sharply colored temples on the side of your face give a great fashion look and a great comfort your face we guarantee your satisfaction.| Always custom made to your individual order specifications in our FDA Listed Lab with the remarkable Optical grade Custom frames and Lenses available. Better style better grade and always less than retail. Rx lens included! Glasses come with a Hard protective case and micro fiber cleaning cloth. Very light and strong frame with Ebe signature comfort fit bridge for easy all day use without hot spots. We design and produce all of our frames and lenses in our FDA listed Labs. Lenses Include Anti-Glare and Anti-Reflective Coating. You will Love your New Glasses and we Guarantee it 100%. We do not sell Cheap &amp;quot;drug store&amp;quot; reading glasses. Lens Width=55, Lens Height=29, Bridge Width=18, Temple Length=140, Frame Width=138 </td><td>0.07657944997478905</td></tr>",
                            "<tr><td>4</td><td>Ebe Men Silver Rectangle Half Rim Spring Hinge Reading Glasses a963 Count on EBE for all of your eye correction needs this light weight sleek looking pair of glasses are something to be won. We guarantee you will love the style of these frames with the sharply colored temples on the side of your face give a great fashion look and a great comfort your face we guarantee your satisfaction.| Always custom made to your individual order specifications in our FDA Listed Lab with the remarkable Optical grade Custom frames and Lenses available. Better style better grade and always less than retail. Rx lens included! Glasses come with a Hard protective case and micro fiber cleaning cloth. Very light and strong frame with Ebe signature comfort fit bridge for easy all day use without hot spots. We design and produce all of our frames and lenses in our FDA listed Labs. Lenses Include Anti-Glare and Anti-Reflective Coating. You will Love your New Glasses and we Guarantee it 100%. We do not sell Cheap &amp;quot;drug store&amp;quot; reading glasses. Lens Width=52, Lens Height=27, Bridge Width=16, Temple Length=138, Frame Width=130 </td><td>0.09326433205059259</td></tr>",
                            "<tr><td>37</td><td>Ebe Men Gold Shield Half Rim Spring Hinge Reading Glasses a970 Count on EBE for all of your eye correction needs this light weight sleek looking pair of glasses are something to be won. We guarantee you will love the style of these frames with the sharply colored temples on the side of your face give a great fashion look and a great comfort your face we guarantee your satisfaction.| Always custom made to your individual order specifications in our FDA Listed Lab with the remarkable Optical grade Custom frames and Lenses available. Better style better grade and always less than retail. Rx lens included! Glasses come with a Hard protective case and micro fiber cleaning cloth. Very light and strong frame with Ebe signature comfort fit bridge for easy all day use without hot spots. We design and produce all of our frames and lenses in our FDA listed Labs. Lenses Include Anti-Glare and Anti-Reflective Coating. You will Love your New Glasses and we Guarantee it 100%. We do not sell Cheap &amp;quot;drug store&amp;quot; reading glasses. Lens Width=50, Lens Height=27, Bridge Width=18, Temple Length=138, Frame Width=129 </td><td>0.10784077920543012</td></tr>",
                            "<tr><td>97</td><td>Ebe Prescription Glasses Mens Womens Burgundy Black Rectangular Half Rim Anti Glare grade s3130 Burgundy half-rim reading glasses. These unique frames feature a stylish half-frame design with soft rubber nose pieces, standard hinges for durability, and narrow black temple arms with built-in ear pieces. These classic looking frames are perfect for any situation, great for all day wear and comfort.| Always custom made to your individual order specifications in our FDA Listed Lab with the remarkable Optical grade Custom frames and Lenses available. Better style better grade and always less than retail. Rx lens included! Glasses come with a Hard protective case and micro fiber cleaning cloth. Very light and strong frame with Ebe signature comfort fit bridge for easy all day use without hot spots. We design and produce all of our frames and lenses in our FDA listed Labs. Lenses Include Anti-Glare and Anti-Reflective Coating. You will Love your New Glasses and we Guarantee it 100%. We do not sell Cheap &amp;quot;drug store&amp;quot; reading glasses. Lens Width=51, Lens Height=25, Bridge Width=18, Temple Length=138, Frame Width=136 </td><td>0.11572889915017326</td></tr>",
                            "<tr><td>72</td><td>Ebe Reading Glasses Mens Womens Tortoise Bold Rectangular Full Frame Anti Glare grade ckbdp9088 Rectangular tortoise-shell colored readers with full frames. These spectacles feature a one-piece frame with built-in matching color bridge and nose pieces for added durability, leading into interesting gold colored stainless steel temple detail with standard hinge for durability, thin gold colored temple arms, and chocolatey brown soft rubber ear pieces with shiny silver tips for added detail and style. Perfect for anyone looking for a solid bold pair of reading glasses for all day use and wearaibility without &amp;quot;hot spots&amp;quot; or pinching.| Always custom made to your individual order specifications in our FDA Listed Lab with the remarkable Optical grade Custom frames and Lenses available. Better style better grade and always less than retail. Rx lens included! Glasses come with a Hard protective case and micro fiber cleaning cloth. Very light and strong frame with Ebe signature comfort fit bridge for easy all day use without hot spots. We design and produce all of our frames and lenses in our FDA listed Labs. Lenses Include Anti-Glare and Anti-Reflective Coating. You will Love your New Glasses and we Guarantee it 100%. We do not sell Cheap &amp;quot;drug store&amp;quot; reading glasses. Lens Width=52, Lens Height=32, Bridge Width=15, Temple Length=145, Frame Width=130 </td><td>0.1291778111185823</td></tr>",
                            "<tr><td>57</td><td>Ebe Reading Glasses Mens Womens Black Blue Retro Acetate Anti-Glare Lenses Light Weight c1219 We are continuing our line of modest specs for the needs of your eyes for every season. We offer these stylish retro specs for your clarity of optical view as well as all-day comfort you demand. The ear pieces are slightly curved for a cozy fit to your face, as we hope you will love sturdy and dependable frames. Let us know how we can take care of your eyes, we know you will love your frames, we guarantee it 100%!| Always custom made to your individual order specifications in our FDA Listed Lab with the remarkable Optical grade Custom frames and Lenses available. Better style better grade and always less than retail. Rx lens included! Glasses come with a Hard protective case and micro fiber cleaning cloth. Very light and strong frame with Ebe signature comfort fit bridge for easy all day use without hot spots. We design and produce all of our frames and lenses in our FDA listed Labs. Lenses Include Anti-Glare and Anti-Reflective Coating. You will Love your New Glasses and we Guarantee it 100%. We do not sell Cheap &amp;quot;drug store&amp;quot; reading glasses. Lens Width=52, Lens Height=40, Bridge Width=21, Temple Length=140, Frame Width=138 </td><td>0.13378322007446553</td></tr>",
                            "<tr><td>32</td><td>Ebe Glasses Men Women Rx Reading Rectangular Full Frame Professional TR-90 ckbj0178w Ebe sleek line of business specs come these sharp deep brown eyewear for all day use. The light weight feel is ideal for the active life style the full frame around your eyes give the perfect level of eye vision needs. We are proud to show these in our signature comfort flex material flavorful and true the grade of Ebe wear we assure your satisfaction.| Always custom made to your individual order specifications in our FDA Listed Lab with the remarkable Optical grade Custom frames and Lenses available. Better style better grade and always less than retail. Rx lens included! Glasses come with a Hard protective case and micro fiber cleaning cloth. Very light and strong frame with Ebe signature comfort fit bridge for easy all day use without hot spots. We design and produce all of our frames and lenses in our FDA listed Labs. Lenses Include Anti-Glare and Anti-Reflective Coating. You will Love your New Glasses and we Guarantee it 100%. We do not sell Cheap &amp;quot;drug store&amp;quot; reading glasses. Lens Width=55, Lens Height=30, Bridge Width=16, Temple Length=140, Frame Width=138 </td><td>0.1357144405350893</td></tr>",
                            "<tr><td>14</td><td>Eye Buy Express Prescription Glasses Mens Womens Burgundy Crystal Clear Yellow Rounded Rectangular Reading Glasses Anti Glare grade Rounded rectangular cat-eye reading glasses. These frames feature a deep burgundy color on the face of the frame with crystal interior, as well as crystal temple detail and yellow, turqoise and black marbled colors on the inside of the temple arms. The standard hinges provide durability and the TR-90 con struction allows for some flex making these glasses very sturdy and perfect for every day use!| Always custom made to your individual order specifications in our FDA Listed Lab with the remarkable Optical grade Custom frames and Lenses available. Better style better grade and always less than retail. Rx lens included! Glasses come with a Hard protective case and micro fiber cleaning cloth. Very light and strong frame with Ebe signature comfort fit bridge for easy all day use without hot spots. We design and produce all of our frames and lenses in our FDA listed Labs. Lenses Include Anti-Glare and Anti-Reflective Coating. You will Love your New Glasses and we Guarantee it 100%. We do not sell Cheap &amp;quot;drug store&amp;quot; reading glasses. Lens Width=54, Lens Height=37, Bridge Width=15, Temple Length=144, Frame Width=135 </td><td>0.14724506089667933</td></tr>",
                            "<tr><td>61</td><td>Ebe Reading Glasses Mens Womens Gold Harry Potter Style Horned Rim Anti Glare Cozy zsm5500 We hope you love these spectacular frames, being the most light weight specs you will ever try on in your life. The temples are thin and streamline, for utmost simplicity yet perfect comfort for an all day fit. The lenses are FDA approved, giving the remarkable in vision acuity you will ever imagine. The nose pads are extremely comfortable, giving your nose a cozy wear but not suffocating. We hope you let Ebe be the and most affordable eye wear you will ever know.| Always custom made to your individual order specifications in our FDA Listed Lab with the remarkable Optical grade Custom frames and Lenses available. Better style better grade and always less than retail. Rx lens included! Glasses come with a Hard protective case and micro fiber cleaning cloth. Very light and strong frame with Ebe signature comfort fit bridge for easy all day use without hot spots. We design and produce all of our frames and lenses in our FDA listed Labs. Lenses Include Anti-Glare and Anti-Reflective Coating. You will Love your New Glasses and we Guarantee it 100%. We do not sell Cheap &amp;quot;drug store&amp;quot; reading glasses. Lens Width=51, Lens Height=40, Bridge Width=19, Temple Length=143, Frame Width=135 </td><td>0.14925055011404043</td></tr>",
                            "<tr><td>12</td><td>Collapsible Rectangular Plastic Folding Clear Lens Reading Glasses Brown 2.5 Unisex folding narrow rectangular clear lens powered reading glasses. (re3754clc)| 5 3/8&amp;quot;(137mm) x 1 3/8&amp;quot;(36mm) Comes with zippered case Light Weight Polycarbonate Lenses </td><td>0.15686747841738868</td></tr>",
                            "<tr><td>90</td><td>Eye Buy Express Kids Childrens Reading Glasses Violet Rectangular Full Frame Style Anti Glare grade d5343 Rectangular full frame purple stainless steel reading glasses for children. These frames feature a 180 degree hinge that swings smoothly for extra durability and flexibility. These frames have adjustible soft rubber nose pieces and soft rubber ear pieces, and the temples feature an interesting multi-color bead design in cool colors. Great for kids that need a flexible and durable pair of reading glasses.| Always custom made to your individual order specifications in our FDA Listed Lab with the remarkable Optical grade Custom frames and Lenses available. Better style better grade and always less than retail. Rx lens included! Glasses come with a Hard protective case and micro fiber cleaning cloth. Very light and strong frame with Ebe signature comfort fit bridge for easy all day use without hot spots. We design and produce all of our frames and lenses in our FDA listed Labs. Lenses Include Anti-Glare and Anti-Reflective Coating. You will Love your New Glasses and we Guarantee it 100%. We do not sell Cheap &amp;quot;drug store&amp;quot; reading glasses. Lens Width=45, Lens Height=28, Bridge Width=16, Temple Length=128, Frame Width=115 </td><td>0.15816860070985017</td></tr>",
                            "<tr><td>70</td><td>Eye Buy Express Kids Childrens Reading Glasses Pink Oval Round Rectangular Anti Glare grade sk9019 Pastel pink oval reading glasses for children. These glasses have a glossy pastel pink finish throughout with matching built-in nose pieces, and glossy silver spring hinges for extra flexibility leading into matching built-in ear pieces. These frames have a unique rouded shape and color that&#39;s perfect for any kid looking for something cool and comfortable.| Always custom made to your individual order specifications in our FDA Listed Lab with the remarkable Optical grade Custom frames and Lenses available. Better style better grade and always less than retail. Rx lens included! Glasses come with a Hard protective case and micro fiber cleaning cloth. Very light and strong frame with Ebe signature comfort fit bridge for easy all day use without hot spots. We design and produce all of our frames and lenses in our FDA listed Labs. Lenses Include Anti-Glare and Anti-Reflective Coating. You will Love your New Glasses and we Guarantee it 100%. We do not sell Cheap &amp;quot;drug store&amp;quot; reading glasses. Lens Width=45, Lens Height=32, Bridge Width=16, Temple Length=121, Frame Width=112 </td><td>0.17772082545536905</td></tr>",
                            "</table>"
                        ]
                    }
                }
            ],
            "execution_count": 13
        },
        {
            "cell_type": "markdown",
            "source": [
                "Add to precedure"
            ],
            "metadata": {
                "language": "sql",
                "azdata_cell_guid": "0e4615f7-b1c6-40d3-8c52-8daca84661dd"
            },
            "attachments": {}
        },
        {
            "cell_type": "code",
            "source": [
                "CREATE OR ALTER PROCEDURE dbo.SearchSimilarProductsSubset\n",
                "    @SearchText NVARCHAR(MAX),\n",
                "    @TopN INT = 50,\n",
                "    @MinSimilarity DECIMAL(19, 16) = 0.75\n",
                "AS\n",
                "BEGIN\n",
                "    SET NOCOUNT ON;\n",
                "\n",
                "    DECLARE @response NVARCHAR(MAX);\n",
                "    DECLARE @qv VECTOR(1536);\n",
                "    DECLARE @retval INT;\n",
                "    DECLARE @payload NVARCHAR(MAX);\n",
                "\n",
                "    -- Prepare payload\n",
                "    SET @payload = JSON_OBJECT('input': @SearchText);\n",
                "\n",
                "    -- Call OpenAI API to get embedding\n",
                "    BEGIN TRY\n",
                "        EXEC @retval = sp_invoke_external_rest_endpoint\n",
                "            @url = 'https://openaiappliedai.openai.azure.com/openai/deployments/text-embedding-ada-002/embeddings?api-version=2023-05-15',\n",
                "            @method = 'POST',\n",
                "            @credential = 'https://openaiappliedai.openai.azure.com/',\n",
                "            @payload = @payload,\n",
                "            @response = @response OUTPUT;\n",
                "    END TRY\n",
                "    BEGIN CATCH\n",
                "        THROW;\n",
                "    END CATCH\n",
                "\n",
                "    -- Extract query vector from response\n",
                "    SET @qv = CAST(JSON_QUERY(@response, '$.result.data[0].embedding') AS VECTOR(1536));\n",
                "\n",
                "    -- Perform similarity search on the subset table\n",
                "    SELECT TOP (@TopN)\n",
                "        s.id,\n",
                "        s.concatenated_text,\n",
                "        vector_distance('cosine', @qv, s.embedding) AS distance\n",
                "    FROM dbo.walmart_ecommerce_subset s\n",
                "    WHERE vector_distance('cosine', @qv, s.embedding) <= 1 - @MinSimilarity\n",
                "    ORDER BY distance ASC;\n",
                "END;\n",
                ""
            ],
            "metadata": {
                "language": "sql",
                "azdata_cell_guid": "c5e9809e-30ed-4a27-bae4-2e3dfebf71e7"
            },
            "outputs": [
                {
                    "output_type": "display_data",
                    "data": {
                        "text/html": "Commands completed successfully."
                    },
                    "metadata": {}
                },
                {
                    "output_type": "display_data",
                    "data": {
                        "text/html": "Total execution time: 00:00:00.039"
                    },
                    "metadata": {}
                }
            ],
            "execution_count": 17
        },
        {
            "cell_type": "markdown",
            "source": [
                "Use Procedure"
            ],
            "metadata": {
                "language": "sql",
                "azdata_cell_guid": "cfc45cc9-1cef-4cf6-b984-1f00b9a409d1"
            },
            "attachments": {}
        },
        {
            "cell_type": "code",
            "source": [
                "EXEC dbo.SearchSimilarProductsSubset \n",
                "    @SearchText = 'Men''s gold glasses',\n",
                "    @TopN = 10,\n",
                "    @MinSimilarity = 0.80;\n",
                ""
            ],
            "metadata": {
                "language": "sql",
                "azdata_cell_guid": "0da54776-b078-46fe-805e-56438f3b58f2"
            },
            "outputs": [
                {
                    "output_type": "display_data",
                    "data": {
                        "text/html": "Commands completed successfully."
                    },
                    "metadata": {}
                },
                {
                    "output_type": "display_data",
                    "data": {
                        "text/html": "Total execution time: 00:00:00.132"
                    },
                    "metadata": {}
                },
                {
                    "output_type": "execute_result",
                    "metadata": {},
                    "execution_count": 18,
                    "data": {
                        "application/vnd.dataresource+json": {
                            "schema": {
                                "fields": [
                                    {
                                        "name": "id"
                                    },
                                    {
                                        "name": "concatenated_text"
                                    },
                                    {
                                        "name": "distance"
                                    }
                                ]
                            },
                            "data": [
                                {
                                    "id": "37",
                                    "concatenated_text": "Ebe Men Gold Shield Half Rim Spring Hinge Reading Glasses a970 Count on EBE for all of your eye correction needs this light weight sleek looking pair of glasses are something to be won. We guarantee you will love the style of these frames with the sharply colored temples on the side of your face give a great fashion look and a great comfort your face we guarantee your satisfaction.| Always custom made to your individual order specifications in our FDA Listed Lab with the remarkable Optical grade Custom frames and Lenses available. Better style better grade and always less than retail. Rx lens included! Glasses come with a Hard protective case and micro fiber cleaning cloth. Very light and strong frame with Ebe signature comfort fit bridge for easy all day use without hot spots. We design and produce all of our frames and lenses in our FDA listed Labs. Lenses Include Anti-Glare and Anti-Reflective Coating. You will Love your New Glasses and we Guarantee it 100%. We do not sell Cheap &quot;drug store&quot; reading glasses. Lens Width=50, Lens Height=27, Bridge Width=18, Temple Length=138, Frame Width=129 ",
                                    "distance": "0.18265632346990646"
                                },
                                {
                                    "id": "14",
                                    "concatenated_text": "Eye Buy Express Prescription Glasses Mens Womens Burgundy Crystal Clear Yellow Rounded Rectangular Reading Glasses Anti Glare grade Rounded rectangular cat-eye reading glasses. These frames feature a deep burgundy color on the face of the frame with crystal interior, as well as crystal temple detail and yellow, turqoise and black marbled colors on the inside of the temple arms. The standard hinges provide durability and the TR-90 con struction allows for some flex making these glasses very sturdy and perfect for every day use!| Always custom made to your individual order specifications in our FDA Listed Lab with the remarkable Optical grade Custom frames and Lenses available. Better style better grade and always less than retail. Rx lens included! Glasses come with a Hard protective case and micro fiber cleaning cloth. Very light and strong frame with Ebe signature comfort fit bridge for easy all day use without hot spots. We design and produce all of our frames and lenses in our FDA listed Labs. Lenses Include Anti-Glare and Anti-Reflective Coating. You will Love your New Glasses and we Guarantee it 100%. We do not sell Cheap &quot;drug store&quot; reading glasses. Lens Width=54, Lens Height=37, Bridge Width=15, Temple Length=144, Frame Width=135 ",
                                    "distance": "0.18657926411160963"
                                },
                                {
                                    "id": "72",
                                    "concatenated_text": "Ebe Reading Glasses Mens Womens Tortoise Bold Rectangular Full Frame Anti Glare grade ckbdp9088 Rectangular tortoise-shell colored readers with full frames. These spectacles feature a one-piece frame with built-in matching color bridge and nose pieces for added durability, leading into interesting gold colored stainless steel temple detail with standard hinge for durability, thin gold colored temple arms, and chocolatey brown soft rubber ear pieces with shiny silver tips for added detail and style. Perfect for anyone looking for a solid bold pair of reading glasses for all day use and wearaibility without &quot;hot spots&quot; or pinching.| Always custom made to your individual order specifications in our FDA Listed Lab with the remarkable Optical grade Custom frames and Lenses available. Better style better grade and always less than retail. Rx lens included! Glasses come with a Hard protective case and micro fiber cleaning cloth. Very light and strong frame with Ebe signature comfort fit bridge for easy all day use without hot spots. We design and produce all of our frames and lenses in our FDA listed Labs. Lenses Include Anti-Glare and Anti-Reflective Coating. You will Love your New Glasses and we Guarantee it 100%. We do not sell Cheap &quot;drug store&quot; reading glasses. Lens Width=52, Lens Height=32, Bridge Width=15, Temple Length=145, Frame Width=130 ",
                                    "distance": "0.1925752838454139"
                                },
                                {
                                    "id": "61",
                                    "concatenated_text": "Ebe Reading Glasses Mens Womens Gold Harry Potter Style Horned Rim Anti Glare Cozy zsm5500 We hope you love these spectacular frames, being the most light weight specs you will ever try on in your life. The temples are thin and streamline, for utmost simplicity yet perfect comfort for an all day fit. The lenses are FDA approved, giving the remarkable in vision acuity you will ever imagine. The nose pads are extremely comfortable, giving your nose a cozy wear but not suffocating. We hope you let Ebe be the and most affordable eye wear you will ever know.| Always custom made to your individual order specifications in our FDA Listed Lab with the remarkable Optical grade Custom frames and Lenses available. Better style better grade and always less than retail. Rx lens included! Glasses come with a Hard protective case and micro fiber cleaning cloth. Very light and strong frame with Ebe signature comfort fit bridge for easy all day use without hot spots. We design and produce all of our frames and lenses in our FDA listed Labs. Lenses Include Anti-Glare and Anti-Reflective Coating. You will Love your New Glasses and we Guarantee it 100%. We do not sell Cheap &quot;drug store&quot; reading glasses. Lens Width=51, Lens Height=40, Bridge Width=19, Temple Length=143, Frame Width=135 ",
                                    "distance": "0.19751037403771543"
                                }
                            ]
                        },
                        "text/html": [
                            "<table>",
                            "<tr><th>id</th><th>concatenated_text</th><th>distance</th></tr>",
                            "<tr><td>37</td><td>Ebe Men Gold Shield Half Rim Spring Hinge Reading Glasses a970 Count on EBE for all of your eye correction needs this light weight sleek looking pair of glasses are something to be won. We guarantee you will love the style of these frames with the sharply colored temples on the side of your face give a great fashion look and a great comfort your face we guarantee your satisfaction.| Always custom made to your individual order specifications in our FDA Listed Lab with the remarkable Optical grade Custom frames and Lenses available. Better style better grade and always less than retail. Rx lens included! Glasses come with a Hard protective case and micro fiber cleaning cloth. Very light and strong frame with Ebe signature comfort fit bridge for easy all day use without hot spots. We design and produce all of our frames and lenses in our FDA listed Labs. Lenses Include Anti-Glare and Anti-Reflective Coating. You will Love your New Glasses and we Guarantee it 100%. We do not sell Cheap &amp;quot;drug store&amp;quot; reading glasses. Lens Width=50, Lens Height=27, Bridge Width=18, Temple Length=138, Frame Width=129 </td><td>0.18265632346990646</td></tr>",
                            "<tr><td>14</td><td>Eye Buy Express Prescription Glasses Mens Womens Burgundy Crystal Clear Yellow Rounded Rectangular Reading Glasses Anti Glare grade Rounded rectangular cat-eye reading glasses. These frames feature a deep burgundy color on the face of the frame with crystal interior, as well as crystal temple detail and yellow, turqoise and black marbled colors on the inside of the temple arms. The standard hinges provide durability and the TR-90 con struction allows for some flex making these glasses very sturdy and perfect for every day use!| Always custom made to your individual order specifications in our FDA Listed Lab with the remarkable Optical grade Custom frames and Lenses available. Better style better grade and always less than retail. Rx lens included! Glasses come with a Hard protective case and micro fiber cleaning cloth. Very light and strong frame with Ebe signature comfort fit bridge for easy all day use without hot spots. We design and produce all of our frames and lenses in our FDA listed Labs. Lenses Include Anti-Glare and Anti-Reflective Coating. You will Love your New Glasses and we Guarantee it 100%. We do not sell Cheap &amp;quot;drug store&amp;quot; reading glasses. Lens Width=54, Lens Height=37, Bridge Width=15, Temple Length=144, Frame Width=135 </td><td>0.18657926411160963</td></tr>",
                            "<tr><td>72</td><td>Ebe Reading Glasses Mens Womens Tortoise Bold Rectangular Full Frame Anti Glare grade ckbdp9088 Rectangular tortoise-shell colored readers with full frames. These spectacles feature a one-piece frame with built-in matching color bridge and nose pieces for added durability, leading into interesting gold colored stainless steel temple detail with standard hinge for durability, thin gold colored temple arms, and chocolatey brown soft rubber ear pieces with shiny silver tips for added detail and style. Perfect for anyone looking for a solid bold pair of reading glasses for all day use and wearaibility without &amp;quot;hot spots&amp;quot; or pinching.| Always custom made to your individual order specifications in our FDA Listed Lab with the remarkable Optical grade Custom frames and Lenses available. Better style better grade and always less than retail. Rx lens included! Glasses come with a Hard protective case and micro fiber cleaning cloth. Very light and strong frame with Ebe signature comfort fit bridge for easy all day use without hot spots. We design and produce all of our frames and lenses in our FDA listed Labs. Lenses Include Anti-Glare and Anti-Reflective Coating. You will Love your New Glasses and we Guarantee it 100%. We do not sell Cheap &amp;quot;drug store&amp;quot; reading glasses. Lens Width=52, Lens Height=32, Bridge Width=15, Temple Length=145, Frame Width=130 </td><td>0.1925752838454139</td></tr>",
                            "<tr><td>61</td><td>Ebe Reading Glasses Mens Womens Gold Harry Potter Style Horned Rim Anti Glare Cozy zsm5500 We hope you love these spectacular frames, being the most light weight specs you will ever try on in your life. The temples are thin and streamline, for utmost simplicity yet perfect comfort for an all day fit. The lenses are FDA approved, giving the remarkable in vision acuity you will ever imagine. The nose pads are extremely comfortable, giving your nose a cozy wear but not suffocating. We hope you let Ebe be the and most affordable eye wear you will ever know.| Always custom made to your individual order specifications in our FDA Listed Lab with the remarkable Optical grade Custom frames and Lenses available. Better style better grade and always less than retail. Rx lens included! Glasses come with a Hard protective case and micro fiber cleaning cloth. Very light and strong frame with Ebe signature comfort fit bridge for easy all day use without hot spots. We design and produce all of our frames and lenses in our FDA listed Labs. Lenses Include Anti-Glare and Anti-Reflective Coating. You will Love your New Glasses and we Guarantee it 100%. We do not sell Cheap &amp;quot;drug store&amp;quot; reading glasses. Lens Width=51, Lens Height=40, Bridge Width=19, Temple Length=143, Frame Width=135 </td><td>0.19751037403771543</td></tr>",
                            "</table>"
                        ]
                    }
                }
            ],
            "execution_count": 18
        },
        {
            "cell_type": "markdown",
            "source": [
                "BAsic call to chat endpoint"
            ],
            "metadata": {
                "language": "sql",
                "azdata_cell_guid": "722a0df0-c962-4730-9840-f951da6724ad"
            },
            "attachments": {}
        },
        {
            "cell_type": "code",
            "source": [
                "-- Step 1: Define the user query\n",
                "DECLARE @text NVARCHAR(MAX) = 'What are the best products for organizing a birthday party for a teenager girl?';\n",
                "\n",
                "-- Step 2: Create the payload for the Chat endpoint\n",
                "DECLARE @payload NVARCHAR(MAX);\n",
                "SET @payload = JSON_OBJECT(\n",
                "    'messages': JSON_ARRAY(\n",
                "        JSON_OBJECT(\n",
                "            'role': 'system',\n",
                "            'content': 'You are a system assistant that helps users answer questions using product data provided to you.'\n",
                "        ),\n",
                "        JSON_OBJECT(\n",
                "            'role': 'user',\n",
                "            'content': @text\n",
                "        )\n",
                "    ),\n",
                "    'max_tokens': 800,\n",
                "    'temperature': 0.7,\n",
                "    'frequency_penalty': 0,\n",
                "    'presence_penalty': 0,\n",
                "    'top_p': 0.95,\n",
                "    'stop': NULL\n",
                ");\n",
                "\n",
                "-- Step 3: Call the Chat endpoint\n",
                "DECLARE @retval INT, @response NVARCHAR(MAX);\n",
                "EXEC @retval = sp_invoke_external_rest_endpoint\n",
                "    @url = 'https://openaiappliedai.openai.azure.com/openai/deployments/gpt-4o-mini/chat/completions?api-version=2024-08-01-preview',\n",
                "    @headers = '{\"Content-Type\":\"application/json\"}',\n",
                "    @method = 'POST',\n",
                "    @credential = 'https://openaiappliedai.openai.azure.com/',\n",
                "    @timeout = 120,\n",
                "    @payload = @payload,\n",
                "    @response = @response OUTPUT;\n",
                "\n",
                "-- Call the Chat endpoint (simplified for clarity)\n",
                "--DECLARE @response NVARCHAR(MAX);\n",
                "-- Assume @response is populated by the API call as before\n",
                "\n",
                "-- Step 1: Parse the `choices` array\n",
                "DROP TABLE IF EXISTS #ChatResponse;\n",
                "SELECT * \n",
                "INTO #ChatResponse\n",
                "FROM OPENJSON(@response, '$.result.choices');\n",
                "\n",
                "-- Step 2: Extract the `message.content` field\n",
                "SELECT t.[value] AS AssistantResponse\n",
                "FROM #ChatResponse c\n",
                "CROSS APPLY OPENJSON(c.value, '$.message') AS t\n",
                "WHERE t.[key] = 'content';\n",
                "\n",
                "-- Clean up\n",
                "DROP TABLE IF EXISTS #ChatResponse;\n",
                "\n",
                "\n",
                "\n",
                "\n",
                ""
            ],
            "metadata": {
                "language": "sql",
                "azdata_cell_guid": "b2c3e166-0e2c-4fed-b95e-a1355685daa4"
            },
            "outputs": [
                {
                    "output_type": "display_data",
                    "data": {
                        "text/html": "(1 row affected)"
                    },
                    "metadata": {}
                },
                {
                    "output_type": "display_data",
                    "data": {
                        "text/html": "(1 row affected)"
                    },
                    "metadata": {}
                },
                {
                    "output_type": "display_data",
                    "data": {
                        "text/html": "Total execution time: 00:00:05.733"
                    },
                    "metadata": {}
                },
                {
                    "output_type": "execute_result",
                    "metadata": {},
                    "execution_count": 30,
                    "data": {
                        "application/vnd.dataresource+json": {
                            "schema": {
                                "fields": [
                                    {
                                        "name": "AssistantResponse"
                                    }
                                ]
                            },
                            "data": [
                                {
                                    "AssistantResponse": "When organizing a birthday party for a teenage girl, it's important to choose products that are trendy, fun, and suitable for the theme of the party. Here are some recommended products that can help make the event memorable:\n\n1. **Themed Decorations**:\n   - **Banners and Streamers**: Look for customizable banners that can include the birthday girl's name and age.\n   - **Balloon Sets**: Choose balloon bouquets that match the party theme, whether it's pastel colors, metallics, or a specific character theme.\n\n2. **Tableware**:\n   - **Disposable Plates and Cups**: Opt for stylish designs that fit the theme, such as floral patterns, glitter, or favorite characters.\n   - **Napkins and Tablecloths**: Coordinate with the overall color scheme for a cohesive look.\n\n3. **Party Favors**:\n   - **Personalized Goodie Bags**: Fill them with fun items like lip gloss, friendship bracelets, or mini notepads.\n   - **DIY Kits**: Consider craft kits that guests can take home and create.\n\n4. **Lighting**:\n   - **String Lights**: These can add a magical touch to the party space, especially if it's outdoors or in a dimly lit area.\n   - **LED Party Lights**: For a dance party atmosphere, disco lights can enhance the vibe.\n\n5. **Games and Activities**:\n   - **Photo Booth Props**: Include fun hats, glasses, and signs for memorable photo opportunities.\n   - **Party Games**: Card games or board games that are popular among teens can keep everyone entertained.\n\n6. **Cake and Treats**:\n   - **Custom Cake or Cupcake Toppers**: Personalize the cake with a theme-related topper.\n   - **Dessert Table Setup**: Use tiered stands and decorative jars for candy and treats.\n\n7. **Music and Entertainment**:\n   - **Bluetooth Speaker**: A portable speaker for playing music during the party.\n   - **Karaoke Machine**: If the birthday girl enjoys singing, this could be a hit.\n\n8. **Invitations**:\n   - **Digital Invitations**: Consider using online platforms to create and send stylish invitations that can be easily shared.\n\n9. **Seating Arrangements**:\n   - **Themed Cushions or Blankets**: Add comfort and style to seating areas with thematic décor.\n\n10. **Photo and Video**:\n    - **Instant Camera**: For capturing memories on the spot with friends.\n    - **Polaroid or Disposable Cameras**: These can be fun for guests to use throughout the event.\n\nBy selecting products that cater to the birthday girl's interests and preferences, you can create an engaging and enjoyable party atmosphere. Don't forget to consider the guest list and the available space when planning your setup!"
                                }
                            ]
                        },
                        "text/html": [
                            "<table>",
                            "<tr><th>AssistantResponse</th></tr>",
                            "<tr><td>When organizing a birthday party for a teenage girl, it&#39;s important to choose products that are trendy, fun, and suitable for the theme of the party. Here are some recommended products that can help make the event memorable:\n\n1. **Themed Decorations**:\n   - **Banners and Streamers**: Look for customizable banners that can include the birthday girl&#39;s name and age.\n   - **Balloon Sets**: Choose balloon bouquets that match the party theme, whether it&#39;s pastel colors, metallics, or a specific character theme.\n\n2. **Tableware**:\n   - **Disposable Plates and Cups**: Opt for stylish designs that fit the theme, such as floral patterns, glitter, or favorite characters.\n   - **Napkins and Tablecloths**: Coordinate with the overall color scheme for a cohesive look.\n\n3. **Party Favors**:\n   - **Personalized Goodie Bags**: Fill them with fun items like lip gloss, friendship bracelets, or mini notepads.\n   - **DIY Kits**: Consider craft kits that guests can take home and create.\n\n4. **Lighting**:\n   - **String Lights**: These can add a magical touch to the party space, especially if it&#39;s outdoors or in a dimly lit area.\n   - **LED Party Lights**: For a dance party atmosphere, disco lights can enhance the vibe.\n\n5. **Games and Activities**:\n   - **Photo Booth Props**: Include fun hats, glasses, and signs for memorable photo opportunities.\n   - **Party Games**: Card games or board games that are popular among teens can keep everyone entertained.\n\n6. **Cake and Treats**:\n   - **Custom Cake or Cupcake Toppers**: Personalize the cake with a theme-related topper.\n   - **Dessert Table Setup**: Use tiered stands and decorative jars for candy and treats.\n\n7. **Music and Entertainment**:\n   - **Bluetooth Speaker**: A portable speaker for playing music during the party.\n   - **Karaoke Machine**: If the birthday girl enjoys singing, this could be a hit.\n\n8. **Invitations**:\n   - **Digital Invitations**: Consider using online platforms to create and send stylish invitations that can be easily shared.\n\n9. **Seating Arrangements**:\n   - **Themed Cushions or Blankets**: Add comfort and style to seating areas with thematic décor.\n\n10. **Photo and Video**:\n    - **Instant Camera**: For capturing memories on the spot with friends.\n    - **Polaroid or Disposable Cameras**: These can be fun for guests to use throughout the event.\n\nBy selecting products that cater to the birthday girl&#39;s interests and preferences, you can create an engaging and enjoyable party atmosphere. Don&#39;t forget to consider the guest list and the available space when planning your setup!</td></tr>",
                            "</table>"
                        ]
                    }
                }
            ],
            "execution_count": 30
        },
        {
            "cell_type": "markdown",
            "source": [
                "Create PROC for completions"
            ],
            "metadata": {
                "language": "sql",
                "azdata_cell_guid": "e2339391-7ee5-4477-9747-b0e035d08efa"
            },
            "attachments": {}
        },
        {
            "cell_type": "code",
            "source": [
                "CREATE OR ALTER PROCEDURE dbo.GetCompletion\n",
                "    @InputText NVARCHAR(MAX), -- Single input text containing the query and any additional context\n",
                "    @CompletionResponse NVARCHAR(MAX) OUTPUT\n",
                "AS\n",
                "BEGIN\n",
                "    SET NOCOUNT ON;\n",
                "\n",
                "    -- Variables\n",
                "    DECLARE @payload NVARCHAR(MAX);\n",
                "    DECLARE @response NVARCHAR(MAX);\n",
                "    DECLARE @retval INT;\n",
                "\n",
                "    -- Step 1: Prepare Chat API Payload\n",
                "    SET @payload = JSON_OBJECT(\n",
                "        'messages': JSON_ARRAY(\n",
                "            JSON_OBJECT(\n",
                "                'role': 'system',\n",
                "                'content': '\n",
                "                    You are a system assistant helping users find the best products based on their query. \n",
                "                    Use the provided context to craft a helpful response.\n",
                "                '\n",
                "            ),\n",
                "            JSON_OBJECT(\n",
                "                'role': 'user',\n",
                "                'content': @InputText\n",
                "            )\n",
                "        ),\n",
                "        'max_tokens': 800,\n",
                "        'temperature': 0.7,\n",
                "        'frequency_penalty': 0,\n",
                "        'presence_penalty': 0,\n",
                "        'top_p': 0.95,\n",
                "        'stop': NULL\n",
                "    );\n",
                "\n",
                "    -- Step 2: Call Chat Endpoint\n",
                "    BEGIN TRY\n",
                "        EXEC @retval = sp_invoke_external_rest_endpoint\n",
                "            @url = 'https://openaiappliedai.openai.azure.com/openai/deployments/gpt-4o-mini/chat/completions?api-version=2024-08-01-preview',\n",
                "            @headers = '{\"Content-Type\":\"application/json\"}',\n",
                "            @method = 'POST',\n",
                "            @credential = 'https://openaiappliedai.openai.azure.com/',\n",
                "            @timeout = 120,\n",
                "            @payload = @payload,\n",
                "            @response = @response OUTPUT;\n",
                "    END TRY\n",
                "    BEGIN CATCH\n",
                "        THROW;\n",
                "    END CATCH\n",
                "\n",
                "    -- Step 3: Parse Assistant's Response\n",
                "    DROP TABLE IF EXISTS #ChatResponse;\n",
                "    SELECT * INTO #ChatResponse\n",
                "    FROM OPENJSON(@response, '$.result.choices');\n",
                "\n",
                "    SELECT @CompletionResponse = t.[value]\n",
                "    FROM #ChatResponse c\n",
                "    CROSS APPLY OPENJSON(c.value, '$.message') AS t\n",
                "    WHERE t.[key] = 'content';\n",
                "\n",
                "    -- Clean up\n",
                "    DROP TABLE IF EXISTS #ChatResponse;\n",
                "END;\n",
                ""
            ],
            "metadata": {
                "language": "sql",
                "azdata_cell_guid": "18636ba0-d98a-4c5f-948b-db1a17b4c0ce"
            },
            "outputs": [
                {
                    "output_type": "display_data",
                    "data": {
                        "text/html": "Commands completed successfully."
                    },
                    "metadata": {}
                },
                {
                    "output_type": "display_data",
                    "data": {
                        "text/html": "Total execution time: 00:00:00.040"
                    },
                    "metadata": {}
                }
            ],
            "execution_count": 33
        },
        {
            "cell_type": "markdown",
            "source": [
                "CREATE FINAL Proc to handle end to end recommendation"
            ],
            "metadata": {
                "azdata_cell_guid": "1365a741-60c9-4a16-a6fa-6f29c591058b"
            },
            "attachments": {}
        },
        {
            "cell_type": "code",
            "source": [
                "CREATE OR ALTER PROCEDURE dbo.RAGSearchWithChat\n",
                "    @SearchText NVARCHAR(MAX), -- User's search query\n",
                "    @TopN INT = 10,           -- Number of top results to retrieve\n",
                "    @MinSimilarity DECIMAL(19, 16) = 0.75 -- Minimum similarity threshold\n",
                "AS\n",
                "BEGIN\n",
                "    SET NOCOUNT ON;\n",
                "\n",
                "    -- Variables\n",
                "    DECLARE @qv VECTOR(1536);\n",
                "    DECLARE @FormattedResults NVARCHAR(MAX);\n",
                "    DECLARE @InputText NVARCHAR(MAX);\n",
                "    DECLARE @AssistantResponse NVARCHAR(MAX);\n",
                "    DECLARE @response NVARCHAR(MAX);\n",
                "\n",
                "    -- Step 1: Generate Query Vector using existing GetEmbeddings procedure\n",
                "    EXEC dbo.GetEmbeddings \n",
                "        @InputText = @SearchText,\n",
                "        @OutputText = @response OUTPUT;\n",
                "\n",
                "    -- Extract the embedding\n",
                "    SET @qv = CAST(JSON_QUERY(@response, '$.result.data[0].embedding') AS VECTOR(1536));\n",
                "\n",
                "    -- Step 2: Perform Similarity Search\n",
                "    SELECT TOP (@TopN)\n",
                "        p.id,\n",
                "        p.concatenated_text,\n",
                "        vector_distance('cosine', @qv, p.embedding) AS similarity\n",
                "    INTO #SearchResults\n",
                "    FROM dbo.walmart_ecommerce_subset p\n",
                "    WHERE vector_distance('cosine', @qv, p.embedding) <= 1 - @MinSimilarity\n",
                "    ORDER BY similarity ASC;\n",
                "\n",
                "    -- Check if there are any results\n",
                "    IF NOT EXISTS (SELECT 1 FROM #SearchResults)\n",
                "    BEGIN\n",
                "        -- Provide a default answer if no matches are found\n",
                "        SET @AssistantResponse = 'Sorry, I couldn''t find any matching products in the database. ' + \n",
                "                                 'Please try refining your search or providing more details.';\n",
                "        SELECT @AssistantResponse AS AssistantResponse;\n",
                "\n",
                "        -- Clean up and exit\n",
                "        DROP TABLE IF EXISTS #SearchResults;\n",
                "        RETURN;\n",
                "    END;\n",
                "\n",
                "    -- Step 3: Format the search results for the Chat prompt\n",
                "    SELECT @FormattedResults = STRING_AGG(\n",
                "        CAST(id AS NVARCHAR(10)) + '=>' + concatenated_text, CHAR(13) + CHAR(10)\n",
                "    ) \n",
                "    FROM #SearchResults;\n",
                "\n",
                "    -- Step 4: Prepare the Input Text for Chat Endpoint\n",
                "    SET @InputText = \n",
                "        '## Products ##' + CHAR(13) + CHAR(10) +\n",
                "        @FormattedResults + CHAR(13) + CHAR(10) +\n",
                "        '## Query ##' + CHAR(13) + CHAR(10) +\n",
                "        @SearchText;\n",
                "\n",
                "    -- Step 5: Get Completion using GetCompletion procedure\n",
                "    EXEC dbo.GetCompletion\n",
                "        @InputText = @InputText,\n",
                "        @CompletionResponse = @AssistantResponse OUTPUT;\n",
                "\n",
                "    -- Step 6: Return Final Response\n",
                "    SELECT @AssistantResponse AS AssistantResponse;\n",
                "\n",
                "    -- Clean up\n",
                "    DROP TABLE IF EXISTS #SearchResults;\n",
                "END;\n",
                ""
            ],
            "metadata": {
                "azdata_cell_guid": "5304a931-5f7a-467c-a573-b43e239ab85a",
                "language": "sql"
            },
            "outputs": [
                {
                    "output_type": "display_data",
                    "data": {
                        "text/html": "Commands completed successfully."
                    },
                    "metadata": {}
                },
                {
                    "output_type": "display_data",
                    "data": {
                        "text/html": "Total execution time: 00:00:00.044"
                    },
                    "metadata": {}
                }
            ],
            "execution_count": 39
        },
        {
            "cell_type": "markdown",
            "source": [
                "TEST END to END"
            ],
            "metadata": {
                "azdata_cell_guid": "9155192a-1e39-4e4c-813d-24aa3101b8f8"
            },
            "attachments": {}
        },
        {
            "cell_type": "code",
            "source": [
                "EXEC dbo.RAGSearchWithChat \n",
                "    @SearchText = 'what kind of shoes should women buy?',\n",
                "    @TopN = 5,\n",
                "    @MinSimilarity = 0.8;\n",
                ""
            ],
            "metadata": {
                "azdata_cell_guid": "9123c667-3d52-4cbe-8857-c30a7cb64044",
                "language": "sql"
            },
            "outputs": [
                {
                    "output_type": "display_data",
                    "data": {
                        "text/html": "Commands completed successfully."
                    },
                    "metadata": {}
                },
                {
                    "output_type": "display_data",
                    "data": {
                        "text/html": "Total execution time: 00:00:03.078"
                    },
                    "metadata": {}
                },
                {
                    "output_type": "execute_result",
                    "metadata": {},
                    "execution_count": 43,
                    "data": {
                        "application/vnd.dataresource+json": {
                            "schema": {
                                "fields": [
                                    {
                                        "name": "AssistantResponse"
                                    }
                                ]
                            },
                            "data": [
                                {
                                    "AssistantResponse": "When choosing shoes, women should consider their needs and preferences, such as comfort, style, and purpose. Here are two excellent options based on the provided context:\n\n1. **Dr. Comfort Paradise Women's Casual Shoe**: This shoe features hand-tooled and burnished leather, offering a luxurious look suitable for both dressy and casual occasions. It also comes in a wide width (4.5 X-Wide), making it a great choice for those who need extra room. The Velcro closure provides ease of wear.\n\n2. **Propet Breeze Walker Sandals**: If comfort and adjustability are priorities, the Propet Breeze Walker is a fantastic option. It has supple leather uppers with three adjustable straps for a customized fit. The contoured footbed and built-in arch support enhance comfort, making it ideal for walking or casual outings.\n\nBoth options provide comfort and style, but the best choice will depend on whether you prefer a casual shoe or a sandal."
                                }
                            ]
                        },
                        "text/html": [
                            "<table>",
                            "<tr><th>AssistantResponse</th></tr>",
                            "<tr><td>When choosing shoes, women should consider their needs and preferences, such as comfort, style, and purpose. Here are two excellent options based on the provided context:\n\n1. **Dr. Comfort Paradise Women&#39;s Casual Shoe**: This shoe features hand-tooled and burnished leather, offering a luxurious look suitable for both dressy and casual occasions. It also comes in a wide width (4.5 X-Wide), making it a great choice for those who need extra room. The Velcro closure provides ease of wear.\n\n2. **Propet Breeze Walker Sandals**: If comfort and adjustability are priorities, the Propet Breeze Walker is a fantastic option. It has supple leather uppers with three adjustable straps for a customized fit. The contoured footbed and built-in arch support enhance comfort, making it ideal for walking or casual outings.\n\nBoth options provide comfort and style, but the best choice will depend on whether you prefer a casual shoe or a sandal.</td></tr>",
                            "</table>"
                        ]
                    }
                }
            ],
            "execution_count": 43
        }
    ]
}